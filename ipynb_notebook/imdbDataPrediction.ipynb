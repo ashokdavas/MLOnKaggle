{
 "cells": [
  {
   "cell_type": "markdown",
   "metadata": {},
   "source": [
    "In this Notebook, I tried to predict the Imdb_score values based on the numeric data.\n",
    "Regression model is tried on multiple regression models with and without feature_selection."
   ]
  },
  {
   "cell_type": "code",
   "execution_count": null,
   "metadata": {},
   "outputs": [],
   "source": [
    "import pandas as pd\n",
    "import numpy as np\n",
    "import seaborn as sns\n",
    "import matplotlib.pyplot as plt\n",
    "from sklearn.preprocessing import Imputer,StandardScaler\n",
    "\n",
    "movies = pd.read_csv(\"../input/movie_metadata.csv\")\n",
    "print (movies.shape)\n",
    "print (movies.columns)"
   ]
  },
  {
   "cell_type": "code",
   "execution_count": null,
   "metadata": {},
   "outputs": [],
   "source": [
    "#drop columns which does not seem to have any effect on movie rating\n",
    "\n",
    "#get numeric data for computation and correlation purposes\n",
    "numerical_data = movies.select_dtypes(exclude=[\"object\"])\n",
    "\n",
    "# take out the y value(imdb_score from data)\n",
    "score_imdb= numerical_data[\"imdb_score\"]\n",
    "numerical_data = numerical_data.drop([\"imdb_score\"],axis=1)\n",
    "year_category = numerical_data[\"title_year\"]\n",
    "numerical_data = numerical_data.drop([\"title_year\"],axis=1)\n",
    "numerical_columns = numerical_data.columns\n",
    "# print (numerical_columns.shape)\n",
    "# print (numerical_data[numerical_columns])\n",
    "# print (numerical_data.describe())"
   ]
  },
  {
   "cell_type": "code",
   "execution_count": null,
   "metadata": {},
   "outputs": [],
   "source": [
    "#fill missing values and normalize the data\n",
    "imp = Imputer(missing_values=\"NaN\",strategy=\"mean\",axis=0)      #default values\n",
    "numerical_data[numerical_columns] = imp.fit_transform(numerical_data[numerical_columns])\n",
    "# print (numerical_data.describe())\n",
    "# scaler = StandardScaler()\n",
    "# numerical_data = scaler.fit_transform(numerical_data)\n",
    "# print (numerical_data.describe())\n",
    "# print (numerical_data.shape)\n",
    "# numerical_data = pd.DataFrame(numerical_data)\n",
    "# print (numerical_data.describe())\n",
    "\n",
    "#get non_numeric informational content\n",
    "information_data = movies.select_dtypes(include=[\"object\"])\n",
    "print (information_data.columns)"
   ]
  },
  {
   "cell_type": "code",
   "execution_count": null,
   "metadata": {},
   "outputs": [],
   "source": [
    "#numpy corrcoef returns symmetric metrics of correlation coef\n",
    "#Use -from scipy.stats.stats import pearsonr   print pearsonr(a,b)\n",
    "#check attributes for correlation with movie rating\n",
    "low_covariance_1 = []\n",
    "low_covariance_2 = []\n",
    "low_covariance_15 = []\n",
    "low_covariance_2g = []\n",
    "for x in numerical_columns:\n",
    "    z = (np.corrcoef(numerical_data[x],y=score_imdb))\n",
    "    if(np.fabs(z[0,1]) < 0.1):\n",
    "        low_covariance_1.append(x)\n",
    "    elif(np.fabs(z[0,1]) < 0.15):\n",
    "        low_covariance_15.append(x)\n",
    "    elif(np.fabs(z[0,1])<0.2):\n",
    "        low_covariance_2.append(x)\n",
    "    else:\n",
    "        low_covariance_2g.append(x)\n",
    "\n",
    "print (low_covariance_2g,low_covariance_2,low_covariance_15,low_covariance_1)"
   ]
  },
  {
   "cell_type": "code",
   "execution_count": null,
   "metadata": {},
   "outputs": [],
   "source": [
    "from sklearn.feature_selection import SelectKBest,SelectPercentile,RFE,RFECV,SelectFromModel\n",
    "from sklearn.svm import SVR,SVC\n",
    "from sklearn.linear_model import Lasso\n",
    "#data which has high correlation with imdb_score is selected\n",
    "select_k = SelectKBest(k=8)\n",
    "x_transformed = select_k.fit_transform(numerical_data,y=score_imdb) #x_transformed is numpy array not pandas\n",
    "#sklearn returns numpy array not pandas object\n",
    "print (x_transformed.shape)\n",
    "# print (x_transformed.columns)\n",
    "#print (x_transformed[0,:])\n",
    "# print (numerical_data.head(1))"
   ]
  },
  {
   "cell_type": "code",
   "execution_count": null,
   "metadata": {},
   "outputs": [],
   "source": [
    "print(\"before model selection\")\n",
    "#The underlying estimator SVR has no `coef_` or `feature_importances_` attribute.\n",
    "#  Either pass a fitted estimator to SelectFromModel or call fit before calling transform.\n",
    "estimator = SVR(kernel=\"linear\").fit(numerical_data,score_imdb)\n",
    "select_model = SelectFromModel(estimator,prefit=True)\n",
    "x_transformed = select_model.transform(numerical_data)\n",
    "print (x_transformed.shape)\n",
    "print(\"after model selection\")"
   ]
  },
  {
   "cell_type": "code",
   "execution_count": null,
   "metadata": {},
   "outputs": [],
   "source": [
    "#RFE use recursive selecting of attributes which is a time counsuming process.\n",
    "estimator = SVR(kernel=\"linear\")\n",
    "selector = RFE(estimator)\n",
    "selector = selector.fit(numerical_data,score_imdb)\n",
    "print (selector.support_)\n",
    "print (selector.ranking_)\n",
    "x_transformed = selector.transform(numerical_data)\n",
    "print (x_transformed.shape)\n",
    "print(\"after rfe selection\")"
   ]
  },
  {
   "cell_type": "code",
   "execution_count": null,
   "metadata": {},
   "outputs": [],
   "source": [
    "#generic utility methods\n",
    "def svm_score(test_y, predict_y):\n",
    "    # convert to numpy array to compare both predict and actual array\n",
    "    # Iris_test_y contain indexes from dataframe(parent)\n",
    "    iris_test_y = np.array(test_y)\n",
    "    diff = 0\n",
    "    total_size = test_y.shape[0]\n",
    "    # print (total_size,test_y.iloc[0],predict_y[0])\n",
    "    for idx in range(total_size):\n",
    "        diff += np.fabs(test_y.iloc[idx]-predict_y[idx])\n",
    "    return diff/total_size\n",
    "\n",
    "def fit_model(model_to_print,model,x_data,y_data):\n",
    "    training_x,test_x,training_Y,test_y = train_test_split(x_data,y_data,test_size=0.001)\n",
    "    model.fit(X=training_x,y=training_Y)\n",
    "    predicted_y = model.predict(test_x)\n",
    "    print  (model_to_print,\"training\",model.score(training_x,training_Y))\n",
    "    print  (model_to_print,model.score(test_x,test_y))\n",
    "    # print (model_to_print,\"training\",svm_score(training_Y,model.predict(training_x)))\n",
    "    # print (model_to_print,svm_score(test_y,predicted_y))"
   ]
  },
  {
   "cell_type": "code",
   "execution_count": null,
   "metadata": {},
   "outputs": [],
   "source": [
    "#Fit a regression model on numeric data\n",
    "from sklearn.model_selection import train_test_split\n",
    "\n",
    "#On complete data without feature extraction\n",
    "svr_model = SVR(kernel='rbf') #default\n",
    "svr_linear_model = SVR(kernel=\"linear\")\n",
    "svr_poly_model = SVR(kernel=\"poly\") #default degree is 3\n",
    "\n",
    "plt.figure()\n",
    "# plt.plot(score_imdb,label=\"original data\")\n",
    "fit_model(\"SVR rbf: \",svr_model,numerical_data,score_imdb)\n",
    "fit_model(\"SVR linear: \",svr_model,numerical_data,score_imdb)\n",
    "fit_model(\"SVR poly: \",svr_model,numerical_data,score_imdb)\n",
    "plt.show()\n",
    "\n",
    "\n",
    "#same model on transformed data with data selection\n",
    "fit_model(\"transformed , svr rbf: \",svr_model,x_transformed,score_imdb)\n",
    "fit_model(\"transformed , svr linear: \",svr_model,x_transformed,score_imdb)\n",
    "fit_model(\"transformed , svr poly: \",svr_model,x_transformed,score_imdb)"
   ]
  },
  {
   "cell_type": "code",
   "execution_count": null,
   "metadata": {},
   "outputs": [],
   "source": [
    "#using knn regression\n",
    "from sklearn.neighbors import KNeighborsRegressor\n",
    "\n",
    "default_knn = KNeighborsRegressor(n_neighbors=5)\n",
    "knn_10 = KNeighborsRegressor(n_neighbors=10)\n",
    "knn_20 = KNeighborsRegressor(n_neighbors=20)\n",
    "\n",
    "fit_model(\" knn with k=5: \",default_knn,numerical_data,score_imdb)\n",
    "fit_model(\" knn with k=10: \",knn_10,numerical_data,score_imdb)\n",
    "fit_model(\" knn with k=20: \",knn_20,numerical_data,score_imdb)\n",
    "\n",
    "#same model on transformed data with data selection\n",
    "fit_model(\"transformed , knn with k=5: \",default_knn,x_transformed,score_imdb)\n",
    "fit_model(\"transformed , knn with k=10: \",knn_10,x_transformed,score_imdb)\n",
    "fit_model(\"transformed , knn with k=20: \",knn_20,x_transformed,score_imdb)"
   ]
  },
  {
   "cell_type": "code",
   "execution_count": 3,
   "metadata": {},
   "outputs": [],
   "source": [
    "#Other regression models\n",
    "\n",
    "from sklearn.linear_model import LinearRegression,Ridge\n",
    "\n",
    "linear_reg = LinearRegression()\n",
    "fit_model(\"linear regression: \",linear_reg,numerical_data,score_imdb)\n",
    "fit_model(\"linear regression transformed: \",linear_reg,x_transformed,score_imdb)\n",
    "\n",
    "#Ridge regression addresses some of the problems of Ordinary Least Squares by imposing a penalty on the size of coefficients.\n",
    "#alpha is the rete of penalty\n",
    "ridge_1 = Ridge(alpha=1.0)\n",
    "ridget_point_5 = Ridge(alpha=0.5)\n",
    "ridget_point_25 = Ridge(alpha=0.25)\n",
    "fit_model(\"Ridge alpha =1:\",ridge_1,numerical_data,score_imdb)\n",
    "fit_model(\"Ridge alpha =0.5 :\",ridge_1,numerical_data,score_imdb)\n",
    "fit_model(\"Ridge alpha =0.25:\",ridge_1,numerical_data,score_imdb)\n",
    "\n",
    "fit_model(\"Ridge transformed alpha =1:\",ridge_1,x_transformed,score_imdb)\n",
    "fit_model(\"Ridge transformed alpha =0.5 :\",ridge_1,x_transformed,score_imdb)\n",
    "fit_model(\"Ridge transformed alpha =0.25:\",ridge_1,x_transformed,score_imdb)\n",
    "\n",
    "#By plotting the distribution against predicted values. You can see that values are in the middle range(5,7) and have a peak at 6.\n",
    "#While the original distribution is more randomly distributed.\n",
    "#Values of score returns the mean deviation from actual score."
   ]
  }
 ],
 "metadata": {
  "kernelspec": {
   "display_name": "Python 3",
   "language": "python",
   "name": "python3"
  },
  "language_info": {
   "codemirror_mode": {
    "name": "ipython",
    "version": 3.0
   },
   "file_extension": ".py",
   "mimetype": "text/x-python",
   "name": "python",
   "nbconvert_exporter": "python",
   "pygments_lexer": "ipython3",
   "version": "3.5.2"
  }
 },
 "nbformat": 4,
 "nbformat_minor": 0
}